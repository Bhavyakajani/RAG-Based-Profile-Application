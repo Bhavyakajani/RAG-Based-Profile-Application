{
 "cells": [
  {
   "cell_type": "code",
   "execution_count": 2,
   "id": "ecca1517",
   "metadata": {
    "scrolled": true
   },
   "outputs": [
    {
     "name": "stdout",
     "output_type": "stream",
     "text": [
      "Note: you may need to restart the kernel to use updated packages.\n"
     ]
    },
    {
     "name": "stderr",
     "output_type": "stream",
     "text": [
      "\n",
      "[notice] A new release of pip is available: 25.0.1 -> 25.1.1\n",
      "[notice] To update, run: python.exe -m pip install --upgrade pip\n"
     ]
    },
    {
     "name": "stdout",
     "output_type": "stream",
     "text": [
      "Note: you may need to restart the kernel to use updated packages.\n"
     ]
    },
    {
     "name": "stderr",
     "output_type": "stream",
     "text": [
      "\n",
      "[notice] A new release of pip is available: 25.0.1 -> 25.1.1\n",
      "[notice] To update, run: python.exe -m pip install --upgrade pip\n"
     ]
    },
    {
     "name": "stdout",
     "output_type": "stream",
     "text": [
      "Requirement already satisfied: opencv-python in c:\\users\\tonyj\\onedrive\\desktop\\sem8\\thesis\\rag_project\\myenv\\lib\\site-packages (4.11.0.86)\n",
      "Requirement already satisfied: python-pptx in c:\\users\\tonyj\\onedrive\\desktop\\sem8\\thesis\\rag_project\\myenv\\lib\\site-packages (1.0.2)\n",
      "Requirement already satisfied: numpy>=1.21.2 in c:\\users\\tonyj\\onedrive\\desktop\\sem8\\thesis\\rag_project\\myenv\\lib\\site-packages (from opencv-python) (2.2.5)\n",
      "Requirement already satisfied: Pillow>=3.3.2 in c:\\users\\tonyj\\onedrive\\desktop\\sem8\\thesis\\rag_project\\myenv\\lib\\site-packages (from python-pptx) (11.2.1)\n",
      "Requirement already satisfied: XlsxWriter>=0.5.7 in c:\\users\\tonyj\\onedrive\\desktop\\sem8\\thesis\\rag_project\\myenv\\lib\\site-packages (from python-pptx) (3.2.3)\n",
      "Requirement already satisfied: lxml>=3.1.0 in c:\\users\\tonyj\\onedrive\\desktop\\sem8\\thesis\\rag_project\\myenv\\lib\\site-packages (from python-pptx) (5.4.0)\n",
      "Requirement already satisfied: typing-extensions>=4.9.0 in c:\\users\\tonyj\\onedrive\\desktop\\sem8\\thesis\\rag_project\\myenv\\lib\\site-packages (from python-pptx) (4.13.2)\n",
      "Note: you may need to restart the kernel to use updated packages.\n"
     ]
    },
    {
     "name": "stderr",
     "output_type": "stream",
     "text": [
      "\n",
      "[notice] A new release of pip is available: 25.0.1 -> 25.1.1\n",
      "[notice] To update, run: python.exe -m pip install --upgrade pip\n"
     ]
    }
   ],
   "source": [
    "%pip install --upgrade --quiet langchain langchain-community langchain-ollama\n",
    "%pip install --upgrade --quiet pypdf pandas streamlit python-dotenv\n",
    "%pip install opencv-python python-pptx\n"
   ]
  },
  {
   "cell_type": "code",
   "execution_count": 3,
   "id": "44274eb1",
   "metadata": {},
   "outputs": [
    {
     "name": "stdout",
     "output_type": "stream",
     "text": [
      "Requirement already satisfied: pytesseract in c:\\users\\tonyj\\onedrive\\desktop\\sem8\\thesis\\rag_project\\myenv\\lib\\site-packages (0.3.13)\n",
      "Requirement already satisfied: packaging>=21.3 in c:\\users\\tonyj\\onedrive\\desktop\\sem8\\thesis\\rag_project\\myenv\\lib\\site-packages (from pytesseract) (24.2)\n",
      "Requirement already satisfied: Pillow>=8.0.0 in c:\\users\\tonyj\\onedrive\\desktop\\sem8\\thesis\\rag_project\\myenv\\lib\\site-packages (from pytesseract) (11.2.1)\n",
      "Note: you may need to restart the kernel to use updated packages.\n"
     ]
    },
    {
     "name": "stderr",
     "output_type": "stream",
     "text": [
      "\n",
      "[notice] A new release of pip is available: 25.0.1 -> 25.1.1\n",
      "[notice] To update, run: python.exe -m pip install --upgrade pip\n"
     ]
    }
   ],
   "source": [
    "%pip install pytesseract"
   ]
  },
  {
   "cell_type": "code",
   "execution_count": 4,
   "id": "44e6885b",
   "metadata": {},
   "outputs": [
    {
     "name": "stderr",
     "output_type": "stream",
     "text": [
      "c:\\Users\\tonyj\\OneDrive\\Desktop\\Sem8\\Thesis\\RAG_project\\myenv\\Lib\\site-packages\\IPython\\core\\interactiveshell.py:3670: LangChainDeprecationWarning: As of langchain-core 0.3.0, LangChain uses pydantic v2 internally. The langchain_core.pydantic_v1 module was a compatibility shim for pydantic v1, and should no longer be used. Please update the code to import from Pydantic directly.\n",
      "\n",
      "For example, replace imports like: `from langchain_core.pydantic_v1 import BaseModel`\n",
      "with: `from pydantic import BaseModel`\n",
      "or the v1 compatibility namespace if you are working in a code base that has not been fully upgraded to pydantic 2 yet. \tfrom pydantic.v1 import BaseModel\n",
      "\n",
      "  exec(code_obj, self.user_global_ns, self.user_ns)\n"
     ]
    }
   ],
   "source": [
    "# from langchain_community.document_loaders import OllamaPDFLoader\n",
    "# from langchain_community.document_loaders import OllamaTextLoader\n",
    "from langchain.document_loaders import PyPDFLoader\n",
    "from langchain.text_splitter import RecursiveCharacterTextSplitter\n",
    "from langchain_ollama import OllamaEmbeddings, ChatOllama\n",
    "from langchain.vectorstores import Chroma\n",
    "from langchain_core.runnables import RunnablePassthrough\n",
    "from langchain_core.prompts import ChatPromptTemplate\n",
    "from langchain_core.pydantic_v1 import BaseModel, Field\n",
    "from pptx import Presentation\n",
    "\n",
    "import cv2\n",
    "import pytesseract\n",
    "import os\n",
    "import pandas as pd\n",
    "import streamlit as st\n",
    "from dotenv import load_dotenv"
   ]
  },
  {
   "cell_type": "code",
   "execution_count": 5,
   "id": "b3b309b4",
   "metadata": {},
   "outputs": [
    {
     "data": {
      "text/plain": [
       "True"
      ]
     },
     "execution_count": 5,
     "metadata": {},
     "output_type": "execute_result"
    }
   ],
   "source": [
    "load_dotenv()"
   ]
  },
  {
   "cell_type": "code",
   "execution_count": 6,
   "id": "386d55bd",
   "metadata": {},
   "outputs": [],
   "source": [
    "OLLAMA_API_KEY = os.getenv(\"OLLAMA_API_KEY\")\n",
    "if OLLAMA_API_KEY is None:\n",
    "    raise ValueError(\"Please set the OLLAMA_API_KEY environment variable.\")\n",
    "\n",
    "# OLLAMA_API_KEY"
   ]
  },
  {
   "cell_type": "markdown",
   "id": "0632340d",
   "metadata": {},
   "source": [
    "## Define Our LLM"
   ]
  },
  {
   "cell_type": "code",
   "execution_count": 7,
   "id": "8e71d8ab",
   "metadata": {},
   "outputs": [],
   "source": [
    "llm = ChatOllama(model=\"llama3.2\", temperature=0.1, api_key=OLLAMA_API_KEY)"
   ]
  },
  {
   "cell_type": "markdown",
   "id": "9942ce1e",
   "metadata": {},
   "source": [
    "## Process PDF Document"
   ]
  },
  {
   "cell_type": "markdown",
   "id": "f1b33a6e",
   "metadata": {},
   "source": [
    "### Load the PDF file"
   ]
  },
  {
   "cell_type": "code",
   "execution_count": 8,
   "id": "110dfd8b",
   "metadata": {},
   "outputs": [
    {
     "name": "stdout",
     "output_type": "stream",
     "text": [
      "[Document(metadata={'producer': 'Microsoft® Word for Microsoft 365', 'creator': 'Microsoft® Word for Microsoft 365', 'creationdate': '2024-03-15T19:52:06+01:00', 'author': 'Bhavya Kajani', 'moddate': '2025-02-17T15:29:39+01:00', 'source': 'data/Bhavya Kajani-1.pdf', 'total_pages': 1, 'page': 0, 'page_label': '1'}, page_content='Bhavya Kajani \\n+48 729 360 482 | Email | LinkedIn  | GitHub  \\n Experience\\nAutomation Tester - EY (GDS), Warsaw | July 2024 - Present\\n• Creating Test Framework for API testing using Java, Junit5 and RestAssured for RESTAPI and\\n       performed UI testing using Java, Selenium WebDriver and TestNg for parallel test case execution.\\n• Performing manual tests to ensure the quality of the web applications like, exploratory, regression, and\\n                testing the data consistency while providing suggestions and making test cases to increase the \\n software quality\\n         •   Reported bugs to log the issues in Azure DevOps for proper documentation and knowledge of scrum \\n framework including participation in scrum rituals. \\nSoftware Tester - Lionbridge Technologies, Warsaw | July 2023 – January 2024\\n        •    Worked on different test cases, pre and post release and managing assert and performance logs and\\nalso carrying out the group task.\\n• Proficient in working on all types of testing like ad-Hoc, regression, smoke testing and functional testing\\nand reporting the issues and bugs.\\n• Well accustomed to Microsoft Azure DevOps and other software testing and reporting tools.\\n \\nProjects \\n[Link] Penguin Game – Group project | C, Git \\n• Contributed to making a game using programming C \\n• Employed Git for issue tracking and collaborative work with team members. \\n[Link] Restaurant Management System – C++ \\n• Made a system to keep track of Employees and Orders in a restaurant using C++ \\n• Implementation of OOPs concept, inheritance and data structures like single linked list. \\n[Link] Guess the number – Java \\n• Basic OOP implementation for Learning in Java \\n[Link] Rock, Paper, Scissors – Java \\n• Made a classic game using concepts like encapsulation, OOP and I/O  \\nEducation \\nWarsaw University of Technology, Warsaw | Bachelor’s in Computer Science | 2021 – Present \\n Sarvajanik School Of Science, India | High School | 2017-2019 \\nMetas Adventist School, India | School | 2006-2017  \\nTechnical Skills\\nLanguages and Libraries: Java, C/C++, Selenium, RestAssured, Junit, TestNg\\nDeveloper Tools: VSCode, IntelliJ, Postman, SwaggerUI, Azure DevOps')]\n",
      "FIle PRINTED ABOVE\n"
     ]
    }
   ],
   "source": [
    "\n",
    "\n",
    "def load_file(path):\n",
    "    text_runs = []\n",
    "    if path.endswith(\".pdf\"):\n",
    "        loader = PyPDFLoader(path)\n",
    "        pages = loader.load()\n",
    "        print(pages)\n",
    "        return pages\n",
    "    elif path.endswith(\".pptx\"):\n",
    "        prs = Presentation(path)\n",
    "        for slide in prs.slides:\n",
    "            for shape in slide.shapes:\n",
    "                if not shape.has_text_frame:\n",
    "                    continue\n",
    "                for paragraph in shape.text_frame.paragraphs:\n",
    "                    for run in paragraph.runs:\n",
    "                        text_runs.append(run.text)\n",
    "                        print(text_runs)\n",
    "        return text_runs\n",
    "    elif path.endswith('.jpg') or path.endswith('.jpeg') or path.endswith('.png'):\n",
    "            image = cv2.imread(path)\n",
    "            if image is not None:\n",
    "                text = pytesseract.image_to_string(image)\n",
    "                print(text)\n",
    "            return text\n",
    "    else:\n",
    "        print(\"Incorrect file format, only supported file formats are pdf, jpg, jpeg, pptx, png.\")\n",
    "        \n",
    "text = load_file(\"data/Bhavya Kajani-1.pdf\")\n",
    "print(\"FIle PRINTED ABOVE\")\n"
   ]
  },
  {
   "cell_type": "markdown",
   "id": "3ac6ee2a",
   "metadata": {},
   "source": [
    "### Split the document into chunks - Chunking"
   ]
  },
  {
   "cell_type": "code",
   "execution_count": null,
   "id": "5668c968",
   "metadata": {},
   "outputs": [],
   "source": [
    "text_splitter = RecursiveCharacterTextSplitter(\n",
    "    chunk_size = 1500,\n",
    "    chunk_overlap = 200,\n",
    "    length_function = len,\n",
    "    separators = [\"\\n\\n\", \"\\n\", \" \"],\n",
    ")\n",
    "chunks_without_split = text # to compare with the split chunks\n",
    "chunks = text_splitter.split_documents(text)"
   ]
  },
  {
   "cell_type": "markdown",
   "id": "f6983dcb",
   "metadata": {},
   "source": [
    "### Create embeddings and vector store"
   ]
  },
  {
   "cell_type": "code",
   "execution_count": 10,
   "id": "8d619c7a",
   "metadata": {},
   "outputs": [],
   "source": [
    "## Note: Look up text embedding \n",
    "def get_embeddings_function():\n",
    "    embeddings = OllamaEmbeddings(\n",
    "        model=\"llama3.2\",\n",
    "    )\n",
    "    return embeddings\n",
    "\n",
    "embeddings = get_embeddings_function()\n",
    "test_vector = embeddings.embed_documents([chunks[0].page_content])"
   ]
  },
  {
   "cell_type": "markdown",
   "id": "fe88d488",
   "metadata": {},
   "source": [
    "### Create Vector database"
   ]
  },
  {
   "cell_type": "code",
   "execution_count": 11,
   "id": "7ed2e8a8",
   "metadata": {},
   "outputs": [],
   "source": [
    "# Create a Chroma database from the documents\n",
    "import uuid\n",
    "\n",
    "def create_vectorstore(chunks, embeddings, vectorestore_path):\n",
    "\n",
    "    ids = [str(uuid.uuid5(uuid.NAMESPACE_DNS, doc.page_content)) for doc in chunks]\n",
    "\n",
    "    unique_ids = set()\n",
    "    unique_chunks = []\n",
    "\n",
    "    for chunk, id in zip(chunks, ids):\n",
    "        if id not in unique_ids:\n",
    "            unique_ids.add(id)\n",
    "            unique_chunks.append(chunk)\n",
    "    # Create a Chroma database from the documents\n",
    "    vectorestore = Chroma.from_documents(\n",
    "        documents=unique_chunks,\n",
    "        ids=list(unique_ids),\n",
    "        embedding=embeddings,\n",
    "        persist_directory=vectorestore_path)\n",
    "\n",
    "    # Persist the vector store to disk\n",
    "    vectorestore.persist()\n",
    "\n",
    "    return vectorestore\n"
   ]
  },
  {
   "cell_type": "code",
   "execution_count": 12,
   "id": "6f37eaad-99e4-48d6-a969-28b933e290d1",
   "metadata": {},
   "outputs": [
    {
     "name": "stdout",
     "output_type": "stream",
     "text": [
      "Requirement already satisfied: chromadb in c:\\users\\tonyj\\onedrive\\desktop\\sem8\\thesis\\rag_project\\myenv\\lib\\site-packages (1.0.7)\n",
      "Requirement already satisfied: build>=1.0.3 in c:\\users\\tonyj\\onedrive\\desktop\\sem8\\thesis\\rag_project\\myenv\\lib\\site-packages (from chromadb) (1.2.2.post1)\n",
      "Requirement already satisfied: pydantic>=1.9 in c:\\users\\tonyj\\onedrive\\desktop\\sem8\\thesis\\rag_project\\myenv\\lib\\site-packages (from chromadb) (2.11.4)\n",
      "Requirement already satisfied: chroma-hnswlib==0.7.6 in c:\\users\\tonyj\\onedrive\\desktop\\sem8\\thesis\\rag_project\\myenv\\lib\\site-packages (from chromadb) (0.7.6)\n",
      "Requirement already satisfied: fastapi==0.115.9 in c:\\users\\tonyj\\onedrive\\desktop\\sem8\\thesis\\rag_project\\myenv\\lib\\site-packages (from chromadb) (0.115.9)\n",
      "Requirement already satisfied: uvicorn>=0.18.3 in c:\\users\\tonyj\\onedrive\\desktop\\sem8\\thesis\\rag_project\\myenv\\lib\\site-packages (from uvicorn[standard]>=0.18.3->chromadb) (0.34.2)\n",
      "Requirement already satisfied: numpy>=1.22.5 in c:\\users\\tonyj\\onedrive\\desktop\\sem8\\thesis\\rag_project\\myenv\\lib\\site-packages (from chromadb) (2.2.5)\n",
      "Requirement already satisfied: posthog>=2.4.0 in c:\\users\\tonyj\\onedrive\\desktop\\sem8\\thesis\\rag_project\\myenv\\lib\\site-packages (from chromadb) (4.0.1)\n",
      "Requirement already satisfied: typing-extensions>=4.5.0 in c:\\users\\tonyj\\onedrive\\desktop\\sem8\\thesis\\rag_project\\myenv\\lib\\site-packages (from chromadb) (4.13.2)\n",
      "Requirement already satisfied: onnxruntime>=1.14.1 in c:\\users\\tonyj\\onedrive\\desktop\\sem8\\thesis\\rag_project\\myenv\\lib\\site-packages (from chromadb) (1.21.1)\n",
      "Requirement already satisfied: opentelemetry-api>=1.2.0 in c:\\users\\tonyj\\onedrive\\desktop\\sem8\\thesis\\rag_project\\myenv\\lib\\site-packages (from chromadb) (1.32.1)\n",
      "Requirement already satisfied: opentelemetry-exporter-otlp-proto-grpc>=1.2.0 in c:\\users\\tonyj\\onedrive\\desktop\\sem8\\thesis\\rag_project\\myenv\\lib\\site-packages (from chromadb) (1.32.1)\n",
      "Requirement already satisfied: opentelemetry-instrumentation-fastapi>=0.41b0 in c:\\users\\tonyj\\onedrive\\desktop\\sem8\\thesis\\rag_project\\myenv\\lib\\site-packages (from chromadb) (0.53b1)\n",
      "Requirement already satisfied: opentelemetry-sdk>=1.2.0 in c:\\users\\tonyj\\onedrive\\desktop\\sem8\\thesis\\rag_project\\myenv\\lib\\site-packages (from chromadb) (1.32.1)\n",
      "Requirement already satisfied: tokenizers>=0.13.2 in c:\\users\\tonyj\\onedrive\\desktop\\sem8\\thesis\\rag_project\\myenv\\lib\\site-packages (from chromadb) (0.21.1)\n",
      "Requirement already satisfied: pypika>=0.48.9 in c:\\users\\tonyj\\onedrive\\desktop\\sem8\\thesis\\rag_project\\myenv\\lib\\site-packages (from chromadb) (0.48.9)\n",
      "Requirement already satisfied: tqdm>=4.65.0 in c:\\users\\tonyj\\onedrive\\desktop\\sem8\\thesis\\rag_project\\myenv\\lib\\site-packages (from chromadb) (4.67.1)\n",
      "Requirement already satisfied: overrides>=7.3.1 in c:\\users\\tonyj\\onedrive\\desktop\\sem8\\thesis\\rag_project\\myenv\\lib\\site-packages (from chromadb) (7.7.0)\n",
      "Requirement already satisfied: importlib-resources in c:\\users\\tonyj\\onedrive\\desktop\\sem8\\thesis\\rag_project\\myenv\\lib\\site-packages (from chromadb) (6.5.2)\n",
      "Requirement already satisfied: grpcio>=1.58.0 in c:\\users\\tonyj\\onedrive\\desktop\\sem8\\thesis\\rag_project\\myenv\\lib\\site-packages (from chromadb) (1.71.0)\n",
      "Requirement already satisfied: bcrypt>=4.0.1 in c:\\users\\tonyj\\onedrive\\desktop\\sem8\\thesis\\rag_project\\myenv\\lib\\site-packages (from chromadb) (4.3.0)\n",
      "Requirement already satisfied: typer>=0.9.0 in c:\\users\\tonyj\\onedrive\\desktop\\sem8\\thesis\\rag_project\\myenv\\lib\\site-packages (from chromadb) (0.15.3)\n",
      "Requirement already satisfied: kubernetes>=28.1.0 in c:\\users\\tonyj\\onedrive\\desktop\\sem8\\thesis\\rag_project\\myenv\\lib\\site-packages (from chromadb) (32.0.1)\n",
      "Requirement already satisfied: tenacity>=8.2.3 in c:\\users\\tonyj\\onedrive\\desktop\\sem8\\thesis\\rag_project\\myenv\\lib\\site-packages (from chromadb) (9.1.2)\n",
      "Requirement already satisfied: pyyaml>=6.0.0 in c:\\users\\tonyj\\onedrive\\desktop\\sem8\\thesis\\rag_project\\myenv\\lib\\site-packages (from chromadb) (6.0.2)\n",
      "Requirement already satisfied: mmh3>=4.0.1 in c:\\users\\tonyj\\onedrive\\desktop\\sem8\\thesis\\rag_project\\myenv\\lib\\site-packages (from chromadb) (5.1.0)\n",
      "Requirement already satisfied: orjson>=3.9.12 in c:\\users\\tonyj\\onedrive\\desktop\\sem8\\thesis\\rag_project\\myenv\\lib\\site-packages (from chromadb) (3.10.18)\n",
      "Requirement already satisfied: httpx>=0.27.0 in c:\\users\\tonyj\\onedrive\\desktop\\sem8\\thesis\\rag_project\\myenv\\lib\\site-packages (from chromadb) (0.28.1)\n",
      "Requirement already satisfied: rich>=10.11.0 in c:\\users\\tonyj\\onedrive\\desktop\\sem8\\thesis\\rag_project\\myenv\\lib\\site-packages (from chromadb) (14.0.0)\n",
      "Requirement already satisfied: jsonschema>=4.19.0 in c:\\users\\tonyj\\onedrive\\desktop\\sem8\\thesis\\rag_project\\myenv\\lib\\site-packages (from chromadb) (4.23.0)\n",
      "Requirement already satisfied: starlette<0.46.0,>=0.40.0 in c:\\users\\tonyj\\onedrive\\desktop\\sem8\\thesis\\rag_project\\myenv\\lib\\site-packages (from fastapi==0.115.9->chromadb) (0.45.3)\n",
      "Requirement already satisfied: packaging>=19.1 in c:\\users\\tonyj\\onedrive\\desktop\\sem8\\thesis\\rag_project\\myenv\\lib\\site-packages (from build>=1.0.3->chromadb) (24.2)\n",
      "Requirement already satisfied: pyproject_hooks in c:\\users\\tonyj\\onedrive\\desktop\\sem8\\thesis\\rag_project\\myenv\\lib\\site-packages (from build>=1.0.3->chromadb) (1.2.0)\n",
      "Requirement already satisfied: colorama in c:\\users\\tonyj\\onedrive\\desktop\\sem8\\thesis\\rag_project\\myenv\\lib\\site-packages (from build>=1.0.3->chromadb) (0.4.6)\n",
      "Requirement already satisfied: anyio in c:\\users\\tonyj\\onedrive\\desktop\\sem8\\thesis\\rag_project\\myenv\\lib\\site-packages (from httpx>=0.27.0->chromadb) (4.9.0)\n",
      "Requirement already satisfied: certifi in c:\\users\\tonyj\\onedrive\\desktop\\sem8\\thesis\\rag_project\\myenv\\lib\\site-packages (from httpx>=0.27.0->chromadb) (2025.4.26)\n",
      "Requirement already satisfied: httpcore==1.* in c:\\users\\tonyj\\onedrive\\desktop\\sem8\\thesis\\rag_project\\myenv\\lib\\site-packages (from httpx>=0.27.0->chromadb) (1.0.9)\n",
      "Requirement already satisfied: idna in c:\\users\\tonyj\\onedrive\\desktop\\sem8\\thesis\\rag_project\\myenv\\lib\\site-packages (from httpx>=0.27.0->chromadb) (3.10)\n",
      "Requirement already satisfied: h11>=0.16 in c:\\users\\tonyj\\onedrive\\desktop\\sem8\\thesis\\rag_project\\myenv\\lib\\site-packages (from httpcore==1.*->httpx>=0.27.0->chromadb) (0.16.0)\n",
      "Requirement already satisfied: attrs>=22.2.0 in c:\\users\\tonyj\\onedrive\\desktop\\sem8\\thesis\\rag_project\\myenv\\lib\\site-packages (from jsonschema>=4.19.0->chromadb) (25.3.0)\n",
      "Requirement already satisfied: jsonschema-specifications>=2023.03.6 in c:\\users\\tonyj\\onedrive\\desktop\\sem8\\thesis\\rag_project\\myenv\\lib\\site-packages (from jsonschema>=4.19.0->chromadb) (2025.4.1)\n",
      "Requirement already satisfied: referencing>=0.28.4 in c:\\users\\tonyj\\onedrive\\desktop\\sem8\\thesis\\rag_project\\myenv\\lib\\site-packages (from jsonschema>=4.19.0->chromadb) (0.36.2)\n",
      "Requirement already satisfied: rpds-py>=0.7.1 in c:\\users\\tonyj\\onedrive\\desktop\\sem8\\thesis\\rag_project\\myenv\\lib\\site-packages (from jsonschema>=4.19.0->chromadb) (0.24.0)\n",
      "Requirement already satisfied: six>=1.9.0 in c:\\users\\tonyj\\onedrive\\desktop\\sem8\\thesis\\rag_project\\myenv\\lib\\site-packages (from kubernetes>=28.1.0->chromadb) (1.17.0)\n",
      "Requirement already satisfied: python-dateutil>=2.5.3 in c:\\users\\tonyj\\onedrive\\desktop\\sem8\\thesis\\rag_project\\myenv\\lib\\site-packages (from kubernetes>=28.1.0->chromadb) (2.9.0.post0)\n",
      "Requirement already satisfied: google-auth>=1.0.1 in c:\\users\\tonyj\\onedrive\\desktop\\sem8\\thesis\\rag_project\\myenv\\lib\\site-packages (from kubernetes>=28.1.0->chromadb) (2.39.0)\n",
      "Requirement already satisfied: websocket-client!=0.40.0,!=0.41.*,!=0.42.*,>=0.32.0 in c:\\users\\tonyj\\onedrive\\desktop\\sem8\\thesis\\rag_project\\myenv\\lib\\site-packages (from kubernetes>=28.1.0->chromadb) (1.8.0)\n",
      "Requirement already satisfied: requests in c:\\users\\tonyj\\onedrive\\desktop\\sem8\\thesis\\rag_project\\myenv\\lib\\site-packages (from kubernetes>=28.1.0->chromadb) (2.32.3)\n",
      "Requirement already satisfied: requests-oauthlib in c:\\users\\tonyj\\onedrive\\desktop\\sem8\\thesis\\rag_project\\myenv\\lib\\site-packages (from kubernetes>=28.1.0->chromadb) (2.0.0)\n",
      "Requirement already satisfied: oauthlib>=3.2.2 in c:\\users\\tonyj\\onedrive\\desktop\\sem8\\thesis\\rag_project\\myenv\\lib\\site-packages (from kubernetes>=28.1.0->chromadb) (3.2.2)\n",
      "Requirement already satisfied: urllib3>=1.24.2 in c:\\users\\tonyj\\onedrive\\desktop\\sem8\\thesis\\rag_project\\myenv\\lib\\site-packages (from kubernetes>=28.1.0->chromadb) (2.4.0)\n",
      "Requirement already satisfied: durationpy>=0.7 in c:\\users\\tonyj\\onedrive\\desktop\\sem8\\thesis\\rag_project\\myenv\\lib\\site-packages (from kubernetes>=28.1.0->chromadb) (0.9)\n",
      "Requirement already satisfied: coloredlogs in c:\\users\\tonyj\\onedrive\\desktop\\sem8\\thesis\\rag_project\\myenv\\lib\\site-packages (from onnxruntime>=1.14.1->chromadb) (15.0.1)\n",
      "Requirement already satisfied: flatbuffers in c:\\users\\tonyj\\onedrive\\desktop\\sem8\\thesis\\rag_project\\myenv\\lib\\site-packages (from onnxruntime>=1.14.1->chromadb) (25.2.10)\n",
      "Requirement already satisfied: protobuf in c:\\users\\tonyj\\onedrive\\desktop\\sem8\\thesis\\rag_project\\myenv\\lib\\site-packages (from onnxruntime>=1.14.1->chromadb) (5.29.4)\n",
      "Requirement already satisfied: sympy in c:\\users\\tonyj\\onedrive\\desktop\\sem8\\thesis\\rag_project\\myenv\\lib\\site-packages (from onnxruntime>=1.14.1->chromadb) (1.14.0)\n",
      "Requirement already satisfied: deprecated>=1.2.6 in c:\\users\\tonyj\\onedrive\\desktop\\sem8\\thesis\\rag_project\\myenv\\lib\\site-packages (from opentelemetry-api>=1.2.0->chromadb) (1.2.18)\n",
      "Requirement already satisfied: importlib-metadata<8.7.0,>=6.0 in c:\\users\\tonyj\\onedrive\\desktop\\sem8\\thesis\\rag_project\\myenv\\lib\\site-packages (from opentelemetry-api>=1.2.0->chromadb) (8.6.1)\n",
      "Requirement already satisfied: googleapis-common-protos~=1.52 in c:\\users\\tonyj\\onedrive\\desktop\\sem8\\thesis\\rag_project\\myenv\\lib\\site-packages (from opentelemetry-exporter-otlp-proto-grpc>=1.2.0->chromadb) (1.70.0)\n",
      "Requirement already satisfied: opentelemetry-exporter-otlp-proto-common==1.32.1 in c:\\users\\tonyj\\onedrive\\desktop\\sem8\\thesis\\rag_project\\myenv\\lib\\site-packages (from opentelemetry-exporter-otlp-proto-grpc>=1.2.0->chromadb) (1.32.1)\n",
      "Requirement already satisfied: opentelemetry-proto==1.32.1 in c:\\users\\tonyj\\onedrive\\desktop\\sem8\\thesis\\rag_project\\myenv\\lib\\site-packages (from opentelemetry-exporter-otlp-proto-grpc>=1.2.0->chromadb) (1.32.1)\n",
      "Requirement already satisfied: opentelemetry-instrumentation-asgi==0.53b1 in c:\\users\\tonyj\\onedrive\\desktop\\sem8\\thesis\\rag_project\\myenv\\lib\\site-packages (from opentelemetry-instrumentation-fastapi>=0.41b0->chromadb) (0.53b1)\n",
      "Requirement already satisfied: opentelemetry-instrumentation==0.53b1 in c:\\users\\tonyj\\onedrive\\desktop\\sem8\\thesis\\rag_project\\myenv\\lib\\site-packages (from opentelemetry-instrumentation-fastapi>=0.41b0->chromadb) (0.53b1)\n",
      "Requirement already satisfied: opentelemetry-semantic-conventions==0.53b1 in c:\\users\\tonyj\\onedrive\\desktop\\sem8\\thesis\\rag_project\\myenv\\lib\\site-packages (from opentelemetry-instrumentation-fastapi>=0.41b0->chromadb) (0.53b1)\n",
      "Requirement already satisfied: opentelemetry-util-http==0.53b1 in c:\\users\\tonyj\\onedrive\\desktop\\sem8\\thesis\\rag_project\\myenv\\lib\\site-packages (from opentelemetry-instrumentation-fastapi>=0.41b0->chromadb) (0.53b1)\n",
      "Requirement already satisfied: wrapt<2.0.0,>=1.0.0 in c:\\users\\tonyj\\onedrive\\desktop\\sem8\\thesis\\rag_project\\myenv\\lib\\site-packages (from opentelemetry-instrumentation==0.53b1->opentelemetry-instrumentation-fastapi>=0.41b0->chromadb) (1.17.2)\n",
      "Requirement already satisfied: asgiref~=3.0 in c:\\users\\tonyj\\onedrive\\desktop\\sem8\\thesis\\rag_project\\myenv\\lib\\site-packages (from opentelemetry-instrumentation-asgi==0.53b1->opentelemetry-instrumentation-fastapi>=0.41b0->chromadb) (3.8.1)\n",
      "Requirement already satisfied: backoff>=1.10.0 in c:\\users\\tonyj\\onedrive\\desktop\\sem8\\thesis\\rag_project\\myenv\\lib\\site-packages (from posthog>=2.4.0->chromadb) (2.2.1)\n",
      "Requirement already satisfied: distro>=1.5.0 in c:\\users\\tonyj\\onedrive\\desktop\\sem8\\thesis\\rag_project\\myenv\\lib\\site-packages (from posthog>=2.4.0->chromadb) (1.9.0)\n",
      "Requirement already satisfied: annotated-types>=0.6.0 in c:\\users\\tonyj\\onedrive\\desktop\\sem8\\thesis\\rag_project\\myenv\\lib\\site-packages (from pydantic>=1.9->chromadb) (0.7.0)\n",
      "Requirement already satisfied: pydantic-core==2.33.2 in c:\\users\\tonyj\\onedrive\\desktop\\sem8\\thesis\\rag_project\\myenv\\lib\\site-packages (from pydantic>=1.9->chromadb) (2.33.2)\n",
      "Requirement already satisfied: typing-inspection>=0.4.0 in c:\\users\\tonyj\\onedrive\\desktop\\sem8\\thesis\\rag_project\\myenv\\lib\\site-packages (from pydantic>=1.9->chromadb) (0.4.0)\n",
      "Requirement already satisfied: markdown-it-py>=2.2.0 in c:\\users\\tonyj\\onedrive\\desktop\\sem8\\thesis\\rag_project\\myenv\\lib\\site-packages (from rich>=10.11.0->chromadb) (3.0.0)\n",
      "Requirement already satisfied: pygments<3.0.0,>=2.13.0 in c:\\users\\tonyj\\onedrive\\desktop\\sem8\\thesis\\rag_project\\myenv\\lib\\site-packages (from rich>=10.11.0->chromadb) (2.19.1)\n",
      "Requirement already satisfied: huggingface-hub<1.0,>=0.16.4 in c:\\users\\tonyj\\onedrive\\desktop\\sem8\\thesis\\rag_project\\myenv\\lib\\site-packages (from tokenizers>=0.13.2->chromadb) (0.30.2)\n",
      "Requirement already satisfied: click>=8.0.0 in c:\\users\\tonyj\\onedrive\\desktop\\sem8\\thesis\\rag_project\\myenv\\lib\\site-packages (from typer>=0.9.0->chromadb) (8.1.8)\n",
      "Requirement already satisfied: shellingham>=1.3.0 in c:\\users\\tonyj\\onedrive\\desktop\\sem8\\thesis\\rag_project\\myenv\\lib\\site-packages (from typer>=0.9.0->chromadb) (1.5.4)\n",
      "Requirement already satisfied: httptools>=0.6.3 in c:\\users\\tonyj\\onedrive\\desktop\\sem8\\thesis\\rag_project\\myenv\\lib\\site-packages (from uvicorn[standard]>=0.18.3->chromadb) (0.6.4)\n",
      "Requirement already satisfied: python-dotenv>=0.13 in c:\\users\\tonyj\\onedrive\\desktop\\sem8\\thesis\\rag_project\\myenv\\lib\\site-packages (from uvicorn[standard]>=0.18.3->chromadb) (1.1.0)\n",
      "Requirement already satisfied: watchfiles>=0.13 in c:\\users\\tonyj\\onedrive\\desktop\\sem8\\thesis\\rag_project\\myenv\\lib\\site-packages (from uvicorn[standard]>=0.18.3->chromadb) (1.0.5)\n",
      "Requirement already satisfied: websockets>=10.4 in c:\\users\\tonyj\\onedrive\\desktop\\sem8\\thesis\\rag_project\\myenv\\lib\\site-packages (from uvicorn[standard]>=0.18.3->chromadb) (15.0.1)\n",
      "Requirement already satisfied: cachetools<6.0,>=2.0.0 in c:\\users\\tonyj\\onedrive\\desktop\\sem8\\thesis\\rag_project\\myenv\\lib\\site-packages (from google-auth>=1.0.1->kubernetes>=28.1.0->chromadb) (5.5.2)\n",
      "Requirement already satisfied: pyasn1-modules>=0.2.1 in c:\\users\\tonyj\\onedrive\\desktop\\sem8\\thesis\\rag_project\\myenv\\lib\\site-packages (from google-auth>=1.0.1->kubernetes>=28.1.0->chromadb) (0.4.2)\n",
      "Requirement already satisfied: rsa<5,>=3.1.4 in c:\\users\\tonyj\\onedrive\\desktop\\sem8\\thesis\\rag_project\\myenv\\lib\\site-packages (from google-auth>=1.0.1->kubernetes>=28.1.0->chromadb) (4.9.1)\n",
      "Requirement already satisfied: filelock in c:\\users\\tonyj\\onedrive\\desktop\\sem8\\thesis\\rag_project\\myenv\\lib\\site-packages (from huggingface-hub<1.0,>=0.16.4->tokenizers>=0.13.2->chromadb) (3.18.0)\n",
      "Requirement already satisfied: fsspec>=2023.5.0 in c:\\users\\tonyj\\onedrive\\desktop\\sem8\\thesis\\rag_project\\myenv\\lib\\site-packages (from huggingface-hub<1.0,>=0.16.4->tokenizers>=0.13.2->chromadb) (2025.3.2)\n",
      "Requirement already satisfied: zipp>=3.20 in c:\\users\\tonyj\\onedrive\\desktop\\sem8\\thesis\\rag_project\\myenv\\lib\\site-packages (from importlib-metadata<8.7.0,>=6.0->opentelemetry-api>=1.2.0->chromadb) (3.21.0)\n",
      "Requirement already satisfied: mdurl~=0.1 in c:\\users\\tonyj\\onedrive\\desktop\\sem8\\thesis\\rag_project\\myenv\\lib\\site-packages (from markdown-it-py>=2.2.0->rich>=10.11.0->chromadb) (0.1.2)\n",
      "Requirement already satisfied: charset-normalizer<4,>=2 in c:\\users\\tonyj\\onedrive\\desktop\\sem8\\thesis\\rag_project\\myenv\\lib\\site-packages (from requests->kubernetes>=28.1.0->chromadb) (3.4.2)\n",
      "Requirement already satisfied: sniffio>=1.1 in c:\\users\\tonyj\\onedrive\\desktop\\sem8\\thesis\\rag_project\\myenv\\lib\\site-packages (from anyio->httpx>=0.27.0->chromadb) (1.3.1)\n",
      "Requirement already satisfied: humanfriendly>=9.1 in c:\\users\\tonyj\\onedrive\\desktop\\sem8\\thesis\\rag_project\\myenv\\lib\\site-packages (from coloredlogs->onnxruntime>=1.14.1->chromadb) (10.0)\n",
      "Requirement already satisfied: mpmath<1.4,>=1.1.0 in c:\\users\\tonyj\\onedrive\\desktop\\sem8\\thesis\\rag_project\\myenv\\lib\\site-packages (from sympy->onnxruntime>=1.14.1->chromadb) (1.3.0)\n",
      "Requirement already satisfied: pyreadline3 in c:\\users\\tonyj\\onedrive\\desktop\\sem8\\thesis\\rag_project\\myenv\\lib\\site-packages (from humanfriendly>=9.1->coloredlogs->onnxruntime>=1.14.1->chromadb) (3.5.4)\n",
      "Requirement already satisfied: pyasn1<0.7.0,>=0.6.1 in c:\\users\\tonyj\\onedrive\\desktop\\sem8\\thesis\\rag_project\\myenv\\lib\\site-packages (from pyasn1-modules>=0.2.1->google-auth>=1.0.1->kubernetes>=28.1.0->chromadb) (0.6.1)\n",
      "Note: you may need to restart the kernel to use updated packages.\n"
     ]
    },
    {
     "name": "stderr",
     "output_type": "stream",
     "text": [
      "\n",
      "[notice] A new release of pip is available: 25.0.1 -> 25.1.1\n",
      "[notice] To update, run: python.exe -m pip install --upgrade pip\n"
     ]
    }
   ],
   "source": [
    "%pip install chromadb"
   ]
  },
  {
   "cell_type": "code",
   "execution_count": 13,
   "id": "3d5bf33d",
   "metadata": {},
   "outputs": [
    {
     "name": "stderr",
     "output_type": "stream",
     "text": [
      "C:\\Users\\tonyj\\AppData\\Local\\Temp\\ipykernel_8116\\2058071402.py:23: LangChainDeprecationWarning: Since Chroma 0.4.x the manual persistence method is no longer supported as docs are automatically persisted.\n",
      "  vectorestore.persist()\n"
     ]
    }
   ],
   "source": [
    "vectorestore = create_vectorstore(chunks=chunks, embeddings=embeddings, vectorestore_path=\"vectorstore_chroma_db\")"
   ]
  },
  {
   "cell_type": "markdown",
   "id": "17f52f7a",
   "metadata": {},
   "source": [
    "## Query for relevant data"
   ]
  },
  {
   "cell_type": "code",
   "execution_count": 14,
   "id": "cdd512a9",
   "metadata": {},
   "outputs": [
    {
     "name": "stderr",
     "output_type": "stream",
     "text": [
      "C:\\Users\\tonyj\\AppData\\Local\\Temp\\ipykernel_8116\\1665830820.py:1: LangChainDeprecationWarning: The class `Chroma` was deprecated in LangChain 0.2.9 and will be removed in 1.0. An updated version of the class exists in the :class:`~langchain-chroma package and should be used instead. To use it run `pip install -U :class:`~langchain-chroma` and import as `from :class:`~langchain_chroma import Chroma``.\n",
      "  vectorestore = Chroma(persist_directory=\"vectorstore_chroma_db\", embedding_function=embeddings)\n"
     ]
    }
   ],
   "source": [
    "vectorestore = Chroma(persist_directory=\"vectorstore_chroma_db\", embedding_function=embeddings)"
   ]
  },
  {
   "cell_type": "code",
   "execution_count": 15,
   "id": "109cfb75",
   "metadata": {},
   "outputs": [
    {
     "data": {
      "text/plain": [
       "[Document(metadata={'page_label': '1', 'total_pages': 1, 'page': 0, 'source': 'data/Bhavya Kajani-1.pdf', 'creator': 'Microsoft® Word for Microsoft 365', 'producer': 'Microsoft® Word for Microsoft 365', 'moddate': '2025-02-17T15:29:39+01:00', 'author': 'Bhavya Kajani', 'creationdate': '2024-03-15T19:52:06+01:00'}, page_content='Bhavya Kajani \\n+48 729 360 482 | Email | LinkedIn  | GitHub  \\n Experience\\nAutomation Tester - EY (GDS), Warsaw | July 2024 - Present\\n• Creating Test Framework for API testing using Java, Junit5 and RestAssured for RESTAPI and\\n       performed UI testing using Java, Selenium WebDriver and TestNg for parallel test case execution.\\n• Performing manual tests to ensure the quality of the web applications like, exploratory, regression, and\\n                testing the data consistency while providing suggestions and making test cases to increase the \\n software quality\\n         •   Reported bugs to log the issues in Azure DevOps for proper documentation and knowledge of scrum \\n framework including participation in scrum rituals. \\nSoftware Tester - Lionbridge Technologies, Warsaw | July 2023 – January 2024\\n        •    Worked on different test cases, pre and post release and managing assert and performance logs and\\nalso carrying out the group task.\\n• Proficient in working on all types of testing like ad-Hoc, regression, smoke testing and functional testing\\nand reporting the issues and bugs.\\n• Well accustomed to Microsoft Azure DevOps and other software testing and reporting tools.\\n \\nProjects \\n[Link] Penguin Game – Group project | C, Git \\n• Contributed to making a game using programming C \\n• Employed Git for issue tracking and collaborative work with team members. \\n[Link] Restaurant Management System – C++ \\n• Made a system to keep track of Employees and Orders in a restaurant using C++'),\n",
       " Document(metadata={'page': 0, 'source': 'data/Bhavya Kajani-1.pdf', 'creationdate': '2024-03-15T19:52:06+01:00', 'total_pages': 1, 'moddate': '2025-02-17T15:29:39+01:00', 'page_label': '1', 'creator': 'Microsoft® Word for Microsoft 365', 'producer': 'Microsoft® Word for Microsoft 365', 'author': 'Bhavya Kajani'}, page_content='[Link] Restaurant Management System – C++ \\n• Made a system to keep track of Employees and Orders in a restaurant using C++ \\n• Implementation of OOPs concept, inheritance and data structures like single linked list. \\n[Link] Guess the number – Java \\n• Basic OOP implementation for Learning in Java \\n[Link] Rock, Paper, Scissors – Java \\n• Made a classic game using concepts like encapsulation, OOP and I/O  \\nEducation \\nWarsaw University of Technology, Warsaw | Bachelor’s in Computer Science | 2021 – Present \\n Sarvajanik School Of Science, India | High School | 2017-2019 \\nMetas Adventist School, India | School | 2006-2017  \\nTechnical Skills\\nLanguages and Libraries: Java, C/C++, Selenium, RestAssured, Junit, TestNg\\nDeveloper Tools: VSCode, IntelliJ, Postman, SwaggerUI, Azure DevOps')]"
      ]
     },
     "execution_count": 15,
     "metadata": {},
     "output_type": "execute_result"
    }
   ],
   "source": [
    "retriever = vectorestore.as_retriever(search_type=\"similarity\", search_kwargs={\"k\": 3})\n",
    "relevant_chunk = retriever.invoke(\" \")\n",
    "relevant_chunk"
   ]
  },
  {
   "cell_type": "markdown",
   "id": "db6d424b",
   "metadata": {},
   "source": [
    "### Prompt Template"
   ]
  },
  {
   "cell_type": "code",
   "execution_count": 16,
   "id": "eaaecf93",
   "metadata": {},
   "outputs": [],
   "source": [
    "PROMPT_TEMPLATE = \"\"\"\n",
    "Extract the following from this resume in natural language:\n",
    "    - Skills: [list]\n",
    "    - Experience: [years, roles]\n",
    "    - Education: [degree, university]\n",
    "    - Name: [name]\n",
    "    - Contact: [contact_info]\n",
    "    Text: {context}\n",
    "    - Do not make up any information.    \n",
    "    - Answer in JSON format. No further explanation nor natural language outside of JSON can be present. \n",
    "    - Do not include any other information.\n",
    "    - Give the output without any escape characters and only in JSON format.\n",
    "    \"\"\"\n"
   ]
  },
  {
   "cell_type": "code",
   "execution_count": 17,
   "id": "4ae41bdc",
   "metadata": {},
   "outputs": [
    {
     "name": "stdout",
     "output_type": "stream",
     "text": [
      "Human: \n",
      "Extract the following from this resume in natural language:\n",
      "    - Skills: [list]\n",
      "    - Experience: [years, roles]\n",
      "    - Education: [degree, university]\n",
      "    - Name: [name]\n",
      "    - Contact: [contact_info]\n",
      "    Text: Bhavya Kajani \n",
      "+48 729 360 482 | Email | LinkedIn  | GitHub  \n",
      " Experience\n",
      "Automation Tester - EY (GDS), Warsaw | July 2024 - Present\n",
      "• Creating Test Framework for API testing using Java, Junit5 and RestAssured for RESTAPI and\n",
      "       performed UI testing using Java, Selenium WebDriver and TestNg for parallel test case execution.\n",
      "• Performing manual tests to ensure the quality of the web applications like, exploratory, regression, and\n",
      "                testing the data consistency while providing suggestions and making test cases to increase the \n",
      " software quality\n",
      "         •   Reported bugs to log the issues in Azure DevOps for proper documentation and knowledge of scrum \n",
      " framework including participation in scrum rituals. \n",
      "Software Tester - Lionbridge Technologies, Warsaw | July 2023 – January 2024\n",
      "        •    Worked on different test cases, pre and post release and managing assert and performance logs and\n",
      "also carrying out the group task.\n",
      "• Proficient in working on all types of testing like ad-Hoc, regression, smoke testing and functional testing\n",
      "and reporting the issues and bugs.\n",
      "• Well accustomed to Microsoft Azure DevOps and other software testing and reporting tools.\n",
      " \n",
      "Projects \n",
      "[Link] Penguin Game – Group project | C, Git \n",
      "• Contributed to making a game using programming C \n",
      "• Employed Git for issue tracking and collaborative work with team members. \n",
      "[Link] Restaurant Management System – C++ \n",
      "• Made a system to keep track of Employees and Orders in a restaurant using C++\n",
      "\n",
      "----\n",
      "\n",
      "[Link] Restaurant Management System – C++ \n",
      "• Made a system to keep track of Employees and Orders in a restaurant using C++ \n",
      "• Implementation of OOPs concept, inheritance and data structures like single linked list. \n",
      "[Link] Guess the number – Java \n",
      "• Basic OOP implementation for Learning in Java \n",
      "[Link] Rock, Paper, Scissors – Java \n",
      "• Made a classic game using concepts like encapsulation, OOP and I/O  \n",
      "Education \n",
      "Warsaw University of Technology, Warsaw | Bachelor’s in Computer Science | 2021 – Present \n",
      " Sarvajanik School Of Science, India | High School | 2017-2019 \n",
      "Metas Adventist School, India | School | 2006-2017  \n",
      "Technical Skills\n",
      "Languages and Libraries: Java, C/C++, Selenium, RestAssured, Junit, TestNg\n",
      "Developer Tools: VSCode, IntelliJ, Postman, SwaggerUI, Azure DevOps\n",
      "    - Do not make up any information.    \n",
      "    - Answer in JSON format. No further explanation nor natural language outside of JSON can be present. \n",
      "    - Do not include any other information.\n",
      "    - Give the output without any escape characters and only in JSON format.\n",
      "    \n"
     ]
    }
   ],
   "source": [
    "# Create a context from the relevant chunks\n",
    "context_text = \"\\n\\n----\\n\\n\".join([doc.page_content for doc in relevant_chunk])\n",
    "\n",
    "# Create prompt\n",
    "prompt_template = ChatPromptTemplate.from_template(PROMPT_TEMPLATE)\n",
    "prompt = prompt_template.format(context=context_text)\n",
    "\n",
    "print(prompt)"
   ]
  },
  {
   "cell_type": "markdown",
   "id": "8210f77f",
   "metadata": {},
   "source": [
    "### Generate Responses"
   ]
  },
  {
   "cell_type": "code",
   "execution_count": 25,
   "id": "7394581a",
   "metadata": {},
   "outputs": [
    {
     "name": "stderr",
     "output_type": "stream",
     "text": [
      "\n",
      "[notice] A new release of pip is available: 25.0.1 -> 25.1.1\n",
      "[notice] To update, run: python.exe -m pip install --upgrade pip\n"
     ]
    },
    {
     "name": "stdout",
     "output_type": "stream",
     "text": [
      "Collecting json-repair\n",
      "  Downloading json_repair-0.46.0-py3-none-any.whl.metadata (12 kB)\n",
      "Downloading json_repair-0.46.0-py3-none-any.whl (22 kB)\n",
      "Installing collected packages: json-repair\n",
      "Successfully installed json-repair-0.46.0\n",
      "Note: you may need to restart the kernel to use updated packages.\n",
      "\"{\\\"content\\\":\\\"{\\\\\\\"name\\\\\\\": \\\\\\\"Bhavya Kajani\\\\\\\", \\\\\\\"contact_info\\\\\\\": \\\\\\\"+48 729 360 482 | Email | LinkedIn | GitHub\\\\\\\", \\\\\\\"education\\\\\\\": \\\\\\\"Warsaw University of Technology, Warsaw Bachelor\\u2019s in Computer Science 2021 \\u2013 Present\\\\\\\", \\\\\\\"experience\\\\\\\": \\\\\\\"[7, \\\\\\\\\\\\\\\"Automation Tester - EY (GDS), Warsaw\\\\\\\\\\\\\\\", \\\\\\\\\\\\\\\"Software Tester - Lionbridge Technologies, Warsaw\\\\\\\\\\\\\\\"]\\\\\\\", \\\\\\\"skills\\\\\\\": \\\\\\\"[\\\\\\\\\\\\\\\"Java\\\\\\\\\\\\\\\", \\\\\\\\\\\\\\\"C/C++\\\\\\\\\\\\\\\", \\\\\\\\\\\\\\\"Selenium\\\\\\\\\\\\\\\", \\\\\\\\\\\\\\\"RestAssured\\\\\\\\\\\\\\\", \\\\\\\\\\\\\\\"Junit\\\\\\\\\\\\\\\", \\\\\\\\\\\\\\\"TestNg\\\\\\\\\\\\\\\", \\\\\\\\\\\\\\\"VSCode\\\\\\\\\\\\\\\", \\\\\\\\\\\\\\\"IntelliJ\\\\\\\\\\\\\\\", \\\\\\\\\\\\\\\"Postman\\\\\\\\\\\\\\\", \\\\\\\\\\\\\\\"SwaggerUI\\\\\\\\\\\\\\\", \\\\\\\\\\\\\\\"Azure DevOps\\\\\\\\\\\\\\\"]\\\\\\\"}}\\\",\\\"additional_kwargs\\\":{},\\\"response_metadata\\\":{\\\"model\\\":\\\"llama3.2\\\",\\\"created_at\\\":\\\"2025-05-30T18:17:27.1014597Z\\\",\\\"done\\\":true,\\\"done_reason\\\":\\\"stop\\\",\\\"total_duration\\\":5228431800,\\\"load_duration\\\":29482600,\\\"prompt_eval_count\\\":650,\\\"prompt_eval_duration\\\":1547006700,\\\"eval_count\\\":135,\\\"eval_duration\\\":3651942500,\\\"model_name\\\":\\\"llama3.2\\\"},\\\"type\\\":\\\"ai\\\",\\\"name\\\":null,\\\"id\\\":\\\"run--8a34cf30-e9cc-4707-9d83-4ab311eb53ce-0\\\",\\\"example\\\":false,\\\"tool_calls\\\":[],\\\"invalid_tool_calls\\\":[],\\\"usage_metadata\\\":{\\\"input_tokens\\\":650,\\\"output_tokens\\\":135,\\\"total_tokens\\\":785}}\"\n",
      "{\"content\": \"{\\\"name\\\": \\\"Bhavya Kajani\\\", \\\"contact_info\\\": \\\"+48 729 360 482 | Email | LinkedIn | GitHub\\\", \\\"education\\\": \\\"Warsaw University of Technology, Warsaw Bachelor\\u2019s in Computer Science 2021 \\u2013 Present\\\", \\\"experience\\\": \\\"[7, \\\\\\\"Automation Tester - EY (GDS), Warsaw\\\\\\\", \\\\\\\"Software Tester - Lionbridge Technologies, Warsaw\\\\\\\"]\\\", \\\"skills\\\": \\\"[\\\\\\\"Java\\\\\\\", \\\\\\\"C/C++\\\\\\\", \\\\\\\"Selenium\\\\\\\", \\\\\\\"RestAssured\\\\\\\", \\\\\\\"Junit\\\\\\\", \\\\\\\"TestNg\\\\\\\", \\\\\\\"VSCode\\\\\\\", \\\\\\\"IntelliJ\\\\\\\", \\\\\\\"Postman\\\\\\\", \\\\\\\"SwaggerUI\\\\\\\", \\\\\\\"Azure DevOps\\\\\\\"]\\\"}}\", \"additional_kwargs\": {}, \"response_metadata\": {\"model\": \"llama3.2\", \"created_at\": \"2025-05-30T18:17:27.1014597Z\", \"done\": true, \"done_reason\": \"stop\", \"total_duration\": 5228431800, \"load_duration\": 29482600, \"prompt_eval_count\": 650, \"prompt_eval_duration\": 1547006700, \"eval_count\": 135, \"eval_duration\": 3651942500, \"model_name\": \"llama3.2\"}, \"type\": \"ai\", \"name\": null, \"id\": \"run--8a34cf30-e9cc-4707-9d83-4ab311eb53ce-0\", \"example\": false, \"tool_calls\": [], \"invalid_tool_calls\": [], \"usage_metadata\": {\"input_tokens\": 650, \"output_tokens\": 135, \"total_tokens\": 785}}\n"
     ]
    }
   ],
   "source": [
    "%pip install json-repair\n",
    "\n",
    "json = llm.invoke(prompt).model_dump_json()\n",
    "import json as js\n",
    "from json_repair import repair_json\n",
    "\n",
    "print(js.dumps(json, indent=4))\n",
    "print(repair_json(json))  # Check if the key \"skills\" exists in the JSON response"
   ]
  },
  {
   "cell_type": "markdown",
   "id": "29d9ff4b",
   "metadata": {},
   "source": [
    "#### Method 2: Using LangChain Expression Language to extract the information from the JSON response"
   ]
  },
  {
   "cell_type": "code",
   "execution_count": 19,
   "id": "b11e3e75",
   "metadata": {},
   "outputs": [],
   "source": [
    "def format_docs(docs):\n",
    "    return \"\\n\\n----\\n\\n\".join(doc.page_content for doc in docs)\n",
    "\n",
    "rag_chain = (\n",
    "            {\"context\": retriever | format_docs, \"question\":RunnablePassthrough()}\n",
    "            | llm \n",
    "            | prompt_template,\n",
    ")\n",
    "\n",
    "\n"
   ]
  },
  {
   "cell_type": "markdown",
   "id": "008fe8ad",
   "metadata": {},
   "source": [
    "### Structure Response"
   ]
  },
  {
   "cell_type": "code",
   "execution_count": 20,
   "id": "4050f1c1",
   "metadata": {},
   "outputs": [],
   "source": [
    "class ResumeParser(BaseModel):\n",
    "    \"\"\"Extracted information from a resume.\"\"\"\n",
    "    skills: list[str] = Field(description=\"List of skills\")\n",
    "    experience: list[str] = Field(description=\"List of experience\")\n",
    "    education: list[str] = Field(description=\"List of education\")\n",
    "    name: str = Field(description=\"Name of the person\")\n",
    "    contact_info: str = Field(description=\"Contact information\")\n"
   ]
  },
  {
   "cell_type": "code",
   "execution_count": 23,
   "id": "2f48b330",
   "metadata": {},
   "outputs": [
    {
     "name": "stdout",
     "output_type": "stream",
     "text": [
      "first={\n",
      "  context: VectorStoreRetriever(tags=['Chroma', 'OllamaEmbeddings'], vectorstore=<langchain_community.vectorstores.chroma.Chroma object at 0x000001E2CF527890>, search_kwargs={'k': 3})\n",
      "           | RunnableLambda(format_docs),\n",
      "  question: RunnablePassthrough()\n",
      "} middle=[ChatPromptTemplate(input_variables=['context'], input_types={}, partial_variables={}, messages=[HumanMessagePromptTemplate(prompt=PromptTemplate(input_variables=['context'], input_types={}, partial_variables={}, template='\\nExtract the following from this resume in natural language:\\n    - Skills: [list]\\n    - Experience: [years, roles]\\n    - Education: [degree, university]\\n    - Name: [name]\\n    - Contact: [contact_info]\\n    Text: {context}\\n    - Do not make up any information.    \\n    - Answer in JSON format. No further explanation nor natural language outside of JSON can be present. \\n    - Do not include any other information.\\n    - Give the output without any escape characters and only in JSON format.\\n    '), additional_kwargs={})]), RunnableBinding(bound=ChatOllama(model='llama3.2', temperature=0.1), kwargs={'format': {'title': 'ResumeParser', 'description': 'Extracted information from a resume.', 'type': 'object', 'properties': {'skills': {'title': 'Skills', 'description': 'List of skills', 'type': 'array', 'items': {'type': 'string'}}, 'experience': {'title': 'Experience', 'description': 'List of experience', 'type': 'array', 'items': {'type': 'string'}}, 'education': {'title': 'Education', 'description': 'List of education', 'type': 'array', 'items': {'type': 'string'}}, 'name': {'title': 'Name', 'description': 'Name of the person', 'type': 'string'}, 'contact_info': {'title': 'Contact Info', 'description': 'Contact information', 'type': 'string'}}, 'required': ['skills', 'experience', 'education', 'name', 'contact_info']}, 'ls_structured_output_format': {'kwargs': {'method': 'json_schema'}, 'schema': <class '__main__.ResumeParser'>}}, config={}, config_factories=[])] last=PydanticOutputParser(pydantic_object=<class '__main__.ResumeParser'>)\n",
      "<bound method BaseModel.model_dump_json of {\n",
      "  context: VectorStoreRetriever(tags=['Chroma', 'OllamaEmbeddings'], vectorstore=<langchain_community.vectorstores.chroma.Chroma object at 0x000001E2CF527890>, search_kwargs={'k': 3})\n",
      "           | RunnableLambda(format_docs),\n",
      "  question: RunnablePassthrough()\n",
      "}\n",
      "| ChatPromptTemplate(input_variables=['context'], input_types={}, partial_variables={}, messages=[HumanMessagePromptTemplate(prompt=PromptTemplate(input_variables=['context'], input_types={}, partial_variables={}, template='\\nExtract the following from this resume in natural language:\\n    - Skills: [list]\\n    - Experience: [years, roles]\\n    - Education: [degree, university]\\n    - Name: [name]\\n    - Contact: [contact_info]\\n    Text: {context}\\n    - Do not make up any information.    \\n    - Answer in JSON format. No further explanation nor natural language outside of JSON can be present. \\n    - Do not include any other information.\\n    - Give the output without any escape characters and only in JSON format.\\n    '), additional_kwargs={})])\n",
      "| RunnableBinding(bound=ChatOllama(model='llama3.2', temperature=0.1), kwargs={'format': {'title': 'ResumeParser', 'description': 'Extracted information from a resume.', 'type': 'object', 'properties': {'skills': {'title': 'Skills', 'description': 'List of skills', 'type': 'array', 'items': {'type': 'string'}}, 'experience': {'title': 'Experience', 'description': 'List of experience', 'type': 'array', 'items': {'type': 'string'}}, 'education': {'title': 'Education', 'description': 'List of education', 'type': 'array', 'items': {'type': 'string'}}, 'name': {'title': 'Name', 'description': 'Name of the person', 'type': 'string'}, 'contact_info': {'title': 'Contact Info', 'description': 'Contact information', 'type': 'string'}}, 'required': ['skills', 'experience', 'education', 'name', 'contact_info']}, 'ls_structured_output_format': {'kwargs': {'method': 'json_schema'}, 'schema': <class '__main__.ResumeParser'>}}, config={}, config_factories=[])\n",
      "| PydanticOutputParser(pydantic_object=<class '__main__.ResumeParser'>)>\n"
     ]
    }
   ],
   "source": [
    "rag_chain = (\n",
    "    {\n",
    "        \"context\": retriever | format_docs,\n",
    "        \"question\": RunnablePassthrough()\n",
    "    }\n",
    "    | prompt_template\n",
    "    | llm.with_structured_output(ResumeParser, method='json_schema')\n",
    "    \n",
    ")\n",
    "print(rag_chain)\n",
    "print(rag_chain.model_dump_json)"
   ]
  },
  {
   "cell_type": "markdown",
   "id": "ec452811",
   "metadata": {},
   "source": [
    "### Transform the output to a pandas dataframe"
   ]
  },
  {
   "cell_type": "code",
   "execution_count": 24,
   "id": "68921ae6",
   "metadata": {},
   "outputs": [
    {
     "name": "stdout",
     "output_type": "stream",
     "text": [
      "skills=['Java', 'C/C++', 'Selenium', 'RestAssured', 'Junit', 'TestNg'] experience=['Automation Tester - EY (GDS), Warsaw | July 2024 - Present', 'Software Tester - Lionbridge Technologies, Warsaw | July 2023 – January 2024'] education=['Warsaw University of Technology, Warsaw | Bachelor’s in Computer Science | 2021 – Present', 'Sarvajanik School Of Science, India | High School | 2017-2019', 'Metas Adventist School, India | School | 2006-2017'] name='Bhavya Kajani' contact_info='+48 729 360 482 | Email | LinkedIn | GitHub'\n",
      "['Java', 'C/C++', 'Selenium', 'RestAssured', 'Junit', 'TestNg']\n",
      "[\n",
      "  {\n",
      "    \"0\":[\n",
      "      \"skills\",\n",
      "      [\n",
      "        \"Java\",\n",
      "        \"C\\/C++\",\n",
      "        \"Selenium\",\n",
      "        \"RestAssured\",\n",
      "        \"Junit\",\n",
      "        \"TestNg\"\n",
      "      ]\n",
      "    ],\n",
      "    \"1\":[\n",
      "      \"experience\",\n",
      "      [\n",
      "        \"Automation Tester - EY (GDS), Warsaw | July 2024 - Present\",\n",
      "        \"Software Tester - Lionbridge Technologies, Warsaw | July 2023 \\u2013 January 2024\"\n",
      "      ]\n",
      "    ],\n",
      "    \"2\":[\n",
      "      \"education\",\n",
      "      [\n",
      "        \"Warsaw University of Technology, Warsaw | Bachelor\\u2019s in Computer Science | 2021 \\u2013 Present\",\n",
      "        \"Sarvajanik School Of Science, India | High School | 2017-2019\",\n",
      "        \"Metas Adventist School, India | School | 2006-2017\"\n",
      "      ]\n",
      "    ],\n",
      "    \"3\":[\n",
      "      \"name\",\n",
      "      \"Bhavya Kajani\"\n",
      "    ],\n",
      "    \"4\":[\n",
      "      \"contact_info\",\n",
      "      \"+48 729 360 482 | Email | LinkedIn | GitHub\"\n",
      "    ]\n",
      "  }\n",
      "]\n"
     ]
    }
   ],
   "source": [
    "structred_response = rag_chain.invoke(\"\")\n",
    "print(structred_response)\n",
    "print(structred_response.skills)\n",
    "df = pd.DataFrame([structred_response])\n",
    "df.head()\n",
    "print(df.to_json(orient=\"records\", indent=2))\n"
   ]
  },
  {
   "cell_type": "code",
   "execution_count": null,
   "id": "79bd669d",
   "metadata": {},
   "outputs": [],
   "source": []
  }
 ],
 "metadata": {
  "kernelspec": {
   "display_name": "myenv",
   "language": "python",
   "name": "python3"
  },
  "language_info": {
   "codemirror_mode": {
    "name": "ipython",
    "version": 3
   },
   "file_extension": ".py",
   "mimetype": "text/x-python",
   "name": "python",
   "nbconvert_exporter": "python",
   "pygments_lexer": "ipython3",
   "version": "3.13.3"
  }
 },
 "nbformat": 4,
 "nbformat_minor": 5
}
